{
 "cells": [
  {
   "cell_type": "code",
   "execution_count": null,
   "id": "70468da9-b1bd-4d11-8a76-f3f7a4a03c8c",
   "metadata": {},
   "outputs": [],
   "source": [
    "# %% \n",
    "\n",
    "import pandas as pd \n",
    "import numpy as np \n",
    "from sklearn.ensemble import RandomForestRegressor  \n",
    "from sklearn.pipeline import Pipeline\n",
    "from pre_processing import importar_dados, preprocessar_dados\n",
    "from sklearn.model_selection import RandomizedSearchCV, KFold, cross_val_score\n",
    "from scipy.stats import randint\n",
    "import joblib"
   ]
  },
  {
   "cell_type": "code",
   "execution_count": null,
   "id": "54c09b57-7029-4d10-b3de-f466efe17440",
   "metadata": {},
   "outputs": [
    {
     "name": "stdout",
     "output_type": "stream",
     "text": [
      "   ANO_VENCIMENTO  MES_VENCIMENTO  TRIMESTRE  VALOR_FATURA_lag1  \\\n",
      "0            2023               8          3             115.00   \n",
      "1            2023               4          2            8024.27   \n",
      "2            2022               4          2              55.20   \n",
      "3            2024               3          1              69.89   \n",
      "4            2023               6          2            5430.86   \n",
      "\n",
      "   VALOR_FATURA_lag2  \n",
      "0             448.35  \n",
      "1            4845.25  \n",
      "2              55.20  \n",
      "3              68.00  \n",
      "4              53.04  \n"
     ]
    }
   ],
   "source": [
    "# %% \n",
    "\n",
    "# Utilizando as funções criadas para importar e pré-processar os dados\n",
    "# A função 'importar_dados' divide os dados em treino, validação e teste.\n",
    "# A função 'preprocessar_dados' aplica transformações (como escalonamento e codificação) nos dados.\n",
    "X_train, X_val, X_test, y_train, y_val, y_test = importar_dados() \n",
    "preprocessor = preprocessar_dados()"
   ]
  },
  {
   "cell_type": "code",
   "execution_count": null,
   "id": "92b12743-837e-4719-8733-f56dc08b525d",
   "metadata": {},
   "outputs": [],
   "source": [
    "# %%\n",
    "\n",
    "# Criando o modelo de regressão RandomForestRegressor\n",
    "# O 'random_state=42' garante que os resultados sejam reprodutíveis.\n",
    "model = RandomForestRegressor(random_state=42)"
   ]
  },
  {
   "cell_type": "code",
   "execution_count": null,
   "id": "24eaea32-c7b8-4d84-b98e-2516a47cf3e5",
   "metadata": {},
   "outputs": [],
   "source": [
    "# %% \n",
    "\n",
    "# Pipeline\n",
    "# O pipeline permite integrar o pré-processamento e o modelo em um único fluxo de trabalho.\n",
    "# Isso facilita a execução do pré-processamento e a aplicação do modelo de forma sequencial e correta.\n",
    "pipeline = Pipeline(steps=[\n",
    "    ('preprocessor', preprocessor),  # Primeiro, aplica o pré-processamento aos dados.\n",
    "    ('regressor', model)  # Depois, treina o modelo RandomForest.\n",
    "])"
   ]
  },
  {
   "cell_type": "code",
   "execution_count": null,
   "id": "82b61f0d-5b5a-41b1-845d-c345fa48ab3a",
   "metadata": {},
   "outputs": [
    {
     "name": "stderr",
     "output_type": "stream",
     "text": [
      "c:\\Users\\maype\\Desktop\\projetos\\water_forecast\\venv\\Lib\\site-packages\\sklearn\\base.py:1473: DataConversionWarning: A column-vector y was passed when a 1d array was expected. Please change the shape of y to (n_samples,), for example using ravel().\n",
      "  return fit_method(estimator, *args, **kwargs)\n",
      "c:\\Users\\maype\\Desktop\\projetos\\water_forecast\\venv\\Lib\\site-packages\\sklearn\\base.py:1473: DataConversionWarning: A column-vector y was passed when a 1d array was expected. Please change the shape of y to (n_samples,), for example using ravel().\n",
      "  return fit_method(estimator, *args, **kwargs)\n",
      "c:\\Users\\maype\\Desktop\\projetos\\water_forecast\\venv\\Lib\\site-packages\\sklearn\\base.py:1473: DataConversionWarning: A column-vector y was passed when a 1d array was expected. Please change the shape of y to (n_samples,), for example using ravel().\n",
      "  return fit_method(estimator, *args, **kwargs)\n",
      "c:\\Users\\maype\\Desktop\\projetos\\water_forecast\\venv\\Lib\\site-packages\\sklearn\\base.py:1473: DataConversionWarning: A column-vector y was passed when a 1d array was expected. Please change the shape of y to (n_samples,), for example using ravel().\n",
      "  return fit_method(estimator, *args, **kwargs)\n",
      "c:\\Users\\maype\\Desktop\\projetos\\water_forecast\\venv\\Lib\\site-packages\\sklearn\\base.py:1473: DataConversionWarning: A column-vector y was passed when a 1d array was expected. Please change the shape of y to (n_samples,), for example using ravel().\n",
      "  return fit_method(estimator, *args, **kwargs)\n",
      "c:\\Users\\maype\\Desktop\\projetos\\water_forecast\\venv\\Lib\\site-packages\\sklearn\\base.py:1473: DataConversionWarning: A column-vector y was passed when a 1d array was expected. Please change the shape of y to (n_samples,), for example using ravel().\n",
      "  return fit_method(estimator, *args, **kwargs)\n",
      "c:\\Users\\maype\\Desktop\\projetos\\water_forecast\\venv\\Lib\\site-packages\\sklearn\\base.py:1473: DataConversionWarning: A column-vector y was passed when a 1d array was expected. Please change the shape of y to (n_samples,), for example using ravel().\n",
      "  return fit_method(estimator, *args, **kwargs)\n",
      "c:\\Users\\maype\\Desktop\\projetos\\water_forecast\\venv\\Lib\\site-packages\\sklearn\\base.py:1473: DataConversionWarning: A column-vector y was passed when a 1d array was expected. Please change the shape of y to (n_samples,), for example using ravel().\n",
      "  return fit_method(estimator, *args, **kwargs)\n",
      "c:\\Users\\maype\\Desktop\\projetos\\water_forecast\\venv\\Lib\\site-packages\\sklearn\\base.py:1473: DataConversionWarning: A column-vector y was passed when a 1d array was expected. Please change the shape of y to (n_samples,), for example using ravel().\n",
      "  return fit_method(estimator, *args, **kwargs)\n",
      "c:\\Users\\maype\\Desktop\\projetos\\water_forecast\\venv\\Lib\\site-packages\\sklearn\\base.py:1473: DataConversionWarning: A column-vector y was passed when a 1d array was expected. Please change the shape of y to (n_samples,), for example using ravel().\n",
      "  return fit_method(estimator, *args, **kwargs)\n",
      "c:\\Users\\maype\\Desktop\\projetos\\water_forecast\\venv\\Lib\\site-packages\\sklearn\\base.py:1473: DataConversionWarning: A column-vector y was passed when a 1d array was expected. Please change the shape of y to (n_samples,), for example using ravel().\n",
      "  return fit_method(estimator, *args, **kwargs)\n",
      "c:\\Users\\maype\\Desktop\\projetos\\water_forecast\\venv\\Lib\\site-packages\\sklearn\\base.py:1473: DataConversionWarning: A column-vector y was passed when a 1d array was expected. Please change the shape of y to (n_samples,), for example using ravel().\n",
      "  return fit_method(estimator, *args, **kwargs)\n",
      "c:\\Users\\maype\\Desktop\\projetos\\water_forecast\\venv\\Lib\\site-packages\\sklearn\\base.py:1473: DataConversionWarning: A column-vector y was passed when a 1d array was expected. Please change the shape of y to (n_samples,), for example using ravel().\n",
      "  return fit_method(estimator, *args, **kwargs)\n",
      "c:\\Users\\maype\\Desktop\\projetos\\water_forecast\\venv\\Lib\\site-packages\\sklearn\\base.py:1473: DataConversionWarning: A column-vector y was passed when a 1d array was expected. Please change the shape of y to (n_samples,), for example using ravel().\n",
      "  return fit_method(estimator, *args, **kwargs)\n",
      "c:\\Users\\maype\\Desktop\\projetos\\water_forecast\\venv\\Lib\\site-packages\\sklearn\\base.py:1473: DataConversionWarning: A column-vector y was passed when a 1d array was expected. Please change the shape of y to (n_samples,), for example using ravel().\n",
      "  return fit_method(estimator, *args, **kwargs)\n",
      "c:\\Users\\maype\\Desktop\\projetos\\water_forecast\\venv\\Lib\\site-packages\\sklearn\\base.py:1473: DataConversionWarning: A column-vector y was passed when a 1d array was expected. Please change the shape of y to (n_samples,), for example using ravel().\n",
      "  return fit_method(estimator, *args, **kwargs)\n",
      "c:\\Users\\maype\\Desktop\\projetos\\water_forecast\\venv\\Lib\\site-packages\\sklearn\\base.py:1473: DataConversionWarning: A column-vector y was passed when a 1d array was expected. Please change the shape of y to (n_samples,), for example using ravel().\n",
      "  return fit_method(estimator, *args, **kwargs)\n",
      "c:\\Users\\maype\\Desktop\\projetos\\water_forecast\\venv\\Lib\\site-packages\\sklearn\\base.py:1473: DataConversionWarning: A column-vector y was passed when a 1d array was expected. Please change the shape of y to (n_samples,), for example using ravel().\n",
      "  return fit_method(estimator, *args, **kwargs)\n",
      "c:\\Users\\maype\\Desktop\\projetos\\water_forecast\\venv\\Lib\\site-packages\\sklearn\\base.py:1473: DataConversionWarning: A column-vector y was passed when a 1d array was expected. Please change the shape of y to (n_samples,), for example using ravel().\n",
      "  return fit_method(estimator, *args, **kwargs)\n",
      "c:\\Users\\maype\\Desktop\\projetos\\water_forecast\\venv\\Lib\\site-packages\\sklearn\\base.py:1473: DataConversionWarning: A column-vector y was passed when a 1d array was expected. Please change the shape of y to (n_samples,), for example using ravel().\n",
      "  return fit_method(estimator, *args, **kwargs)\n",
      "c:\\Users\\maype\\Desktop\\projetos\\water_forecast\\venv\\Lib\\site-packages\\sklearn\\base.py:1473: DataConversionWarning: A column-vector y was passed when a 1d array was expected. Please change the shape of y to (n_samples,), for example using ravel().\n",
      "  return fit_method(estimator, *args, **kwargs)\n",
      "c:\\Users\\maype\\Desktop\\projetos\\water_forecast\\venv\\Lib\\site-packages\\sklearn\\base.py:1473: DataConversionWarning: A column-vector y was passed when a 1d array was expected. Please change the shape of y to (n_samples,), for example using ravel().\n",
      "  return fit_method(estimator, *args, **kwargs)\n",
      "c:\\Users\\maype\\Desktop\\projetos\\water_forecast\\venv\\Lib\\site-packages\\sklearn\\base.py:1473: DataConversionWarning: A column-vector y was passed when a 1d array was expected. Please change the shape of y to (n_samples,), for example using ravel().\n",
      "  return fit_method(estimator, *args, **kwargs)\n",
      "c:\\Users\\maype\\Desktop\\projetos\\water_forecast\\venv\\Lib\\site-packages\\sklearn\\base.py:1473: DataConversionWarning: A column-vector y was passed when a 1d array was expected. Please change the shape of y to (n_samples,), for example using ravel().\n",
      "  return fit_method(estimator, *args, **kwargs)\n",
      "c:\\Users\\maype\\Desktop\\projetos\\water_forecast\\venv\\Lib\\site-packages\\sklearn\\base.py:1473: DataConversionWarning: A column-vector y was passed when a 1d array was expected. Please change the shape of y to (n_samples,), for example using ravel().\n",
      "  return fit_method(estimator, *args, **kwargs)\n",
      "c:\\Users\\maype\\Desktop\\projetos\\water_forecast\\venv\\Lib\\site-packages\\sklearn\\base.py:1473: DataConversionWarning: A column-vector y was passed when a 1d array was expected. Please change the shape of y to (n_samples,), for example using ravel().\n",
      "  return fit_method(estimator, *args, **kwargs)\n",
      "c:\\Users\\maype\\Desktop\\projetos\\water_forecast\\venv\\Lib\\site-packages\\sklearn\\base.py:1473: DataConversionWarning: A column-vector y was passed when a 1d array was expected. Please change the shape of y to (n_samples,), for example using ravel().\n",
      "  return fit_method(estimator, *args, **kwargs)\n",
      "c:\\Users\\maype\\Desktop\\projetos\\water_forecast\\venv\\Lib\\site-packages\\sklearn\\base.py:1473: DataConversionWarning: A column-vector y was passed when a 1d array was expected. Please change the shape of y to (n_samples,), for example using ravel().\n",
      "  return fit_method(estimator, *args, **kwargs)\n",
      "c:\\Users\\maype\\Desktop\\projetos\\water_forecast\\venv\\Lib\\site-packages\\sklearn\\base.py:1473: DataConversionWarning: A column-vector y was passed when a 1d array was expected. Please change the shape of y to (n_samples,), for example using ravel().\n",
      "  return fit_method(estimator, *args, **kwargs)\n",
      "c:\\Users\\maype\\Desktop\\projetos\\water_forecast\\venv\\Lib\\site-packages\\sklearn\\base.py:1473: DataConversionWarning: A column-vector y was passed when a 1d array was expected. Please change the shape of y to (n_samples,), for example using ravel().\n",
      "  return fit_method(estimator, *args, **kwargs)\n",
      "c:\\Users\\maype\\Desktop\\projetos\\water_forecast\\venv\\Lib\\site-packages\\sklearn\\base.py:1473: DataConversionWarning: A column-vector y was passed when a 1d array was expected. Please change the shape of y to (n_samples,), for example using ravel().\n",
      "  return fit_method(estimator, *args, **kwargs)\n",
      "c:\\Users\\maype\\Desktop\\projetos\\water_forecast\\venv\\Lib\\site-packages\\sklearn\\base.py:1473: DataConversionWarning: A column-vector y was passed when a 1d array was expected. Please change the shape of y to (n_samples,), for example using ravel().\n",
      "  return fit_method(estimator, *args, **kwargs)\n",
      "c:\\Users\\maype\\Desktop\\projetos\\water_forecast\\venv\\Lib\\site-packages\\sklearn\\base.py:1473: DataConversionWarning: A column-vector y was passed when a 1d array was expected. Please change the shape of y to (n_samples,), for example using ravel().\n",
      "  return fit_method(estimator, *args, **kwargs)\n",
      "c:\\Users\\maype\\Desktop\\projetos\\water_forecast\\venv\\Lib\\site-packages\\sklearn\\base.py:1473: DataConversionWarning: A column-vector y was passed when a 1d array was expected. Please change the shape of y to (n_samples,), for example using ravel().\n",
      "  return fit_method(estimator, *args, **kwargs)\n",
      "c:\\Users\\maype\\Desktop\\projetos\\water_forecast\\venv\\Lib\\site-packages\\sklearn\\base.py:1473: DataConversionWarning: A column-vector y was passed when a 1d array was expected. Please change the shape of y to (n_samples,), for example using ravel().\n",
      "  return fit_method(estimator, *args, **kwargs)\n",
      "c:\\Users\\maype\\Desktop\\projetos\\water_forecast\\venv\\Lib\\site-packages\\sklearn\\base.py:1473: DataConversionWarning: A column-vector y was passed when a 1d array was expected. Please change the shape of y to (n_samples,), for example using ravel().\n",
      "  return fit_method(estimator, *args, **kwargs)\n",
      "c:\\Users\\maype\\Desktop\\projetos\\water_forecast\\venv\\Lib\\site-packages\\sklearn\\base.py:1473: DataConversionWarning: A column-vector y was passed when a 1d array was expected. Please change the shape of y to (n_samples,), for example using ravel().\n",
      "  return fit_method(estimator, *args, **kwargs)\n",
      "c:\\Users\\maype\\Desktop\\projetos\\water_forecast\\venv\\Lib\\site-packages\\sklearn\\base.py:1473: DataConversionWarning: A column-vector y was passed when a 1d array was expected. Please change the shape of y to (n_samples,), for example using ravel().\n",
      "  return fit_method(estimator, *args, **kwargs)\n",
      "c:\\Users\\maype\\Desktop\\projetos\\water_forecast\\venv\\Lib\\site-packages\\sklearn\\base.py:1473: DataConversionWarning: A column-vector y was passed when a 1d array was expected. Please change the shape of y to (n_samples,), for example using ravel().\n",
      "  return fit_method(estimator, *args, **kwargs)\n",
      "c:\\Users\\maype\\Desktop\\projetos\\water_forecast\\venv\\Lib\\site-packages\\sklearn\\base.py:1473: DataConversionWarning: A column-vector y was passed when a 1d array was expected. Please change the shape of y to (n_samples,), for example using ravel().\n",
      "  return fit_method(estimator, *args, **kwargs)\n",
      "c:\\Users\\maype\\Desktop\\projetos\\water_forecast\\venv\\Lib\\site-packages\\sklearn\\base.py:1473: DataConversionWarning: A column-vector y was passed when a 1d array was expected. Please change the shape of y to (n_samples,), for example using ravel().\n",
      "  return fit_method(estimator, *args, **kwargs)\n",
      "c:\\Users\\maype\\Desktop\\projetos\\water_forecast\\venv\\Lib\\site-packages\\sklearn\\base.py:1473: DataConversionWarning: A column-vector y was passed when a 1d array was expected. Please change the shape of y to (n_samples,), for example using ravel().\n",
      "  return fit_method(estimator, *args, **kwargs)\n",
      "c:\\Users\\maype\\Desktop\\projetos\\water_forecast\\venv\\Lib\\site-packages\\sklearn\\base.py:1473: DataConversionWarning: A column-vector y was passed when a 1d array was expected. Please change the shape of y to (n_samples,), for example using ravel().\n",
      "  return fit_method(estimator, *args, **kwargs)\n",
      "c:\\Users\\maype\\Desktop\\projetos\\water_forecast\\venv\\Lib\\site-packages\\sklearn\\base.py:1473: DataConversionWarning: A column-vector y was passed when a 1d array was expected. Please change the shape of y to (n_samples,), for example using ravel().\n",
      "  return fit_method(estimator, *args, **kwargs)\n",
      "c:\\Users\\maype\\Desktop\\projetos\\water_forecast\\venv\\Lib\\site-packages\\sklearn\\base.py:1473: DataConversionWarning: A column-vector y was passed when a 1d array was expected. Please change the shape of y to (n_samples,), for example using ravel().\n",
      "  return fit_method(estimator, *args, **kwargs)\n",
      "c:\\Users\\maype\\Desktop\\projetos\\water_forecast\\venv\\Lib\\site-packages\\sklearn\\base.py:1473: DataConversionWarning: A column-vector y was passed when a 1d array was expected. Please change the shape of y to (n_samples,), for example using ravel().\n",
      "  return fit_method(estimator, *args, **kwargs)\n",
      "c:\\Users\\maype\\Desktop\\projetos\\water_forecast\\venv\\Lib\\site-packages\\sklearn\\base.py:1473: DataConversionWarning: A column-vector y was passed when a 1d array was expected. Please change the shape of y to (n_samples,), for example using ravel().\n",
      "  return fit_method(estimator, *args, **kwargs)\n",
      "c:\\Users\\maype\\Desktop\\projetos\\water_forecast\\venv\\Lib\\site-packages\\sklearn\\base.py:1473: DataConversionWarning: A column-vector y was passed when a 1d array was expected. Please change the shape of y to (n_samples,), for example using ravel().\n",
      "  return fit_method(estimator, *args, **kwargs)\n",
      "c:\\Users\\maype\\Desktop\\projetos\\water_forecast\\venv\\Lib\\site-packages\\sklearn\\base.py:1473: DataConversionWarning: A column-vector y was passed when a 1d array was expected. Please change the shape of y to (n_samples,), for example using ravel().\n",
      "  return fit_method(estimator, *args, **kwargs)\n",
      "c:\\Users\\maype\\Desktop\\projetos\\water_forecast\\venv\\Lib\\site-packages\\sklearn\\base.py:1473: DataConversionWarning: A column-vector y was passed when a 1d array was expected. Please change the shape of y to (n_samples,), for example using ravel().\n",
      "  return fit_method(estimator, *args, **kwargs)\n",
      "c:\\Users\\maype\\Desktop\\projetos\\water_forecast\\venv\\Lib\\site-packages\\sklearn\\base.py:1473: DataConversionWarning: A column-vector y was passed when a 1d array was expected. Please change the shape of y to (n_samples,), for example using ravel().\n",
      "  return fit_method(estimator, *args, **kwargs)\n"
     ]
    },
    {
     "name": "stdout",
     "output_type": "stream",
     "text": [
      "Melhores hiperparâmetros: {'regressor__n_estimators': 300, 'regressor__min_samples_split': 10, 'regressor__max_depth': 10}\n"
     ]
    }
   ],
   "source": [
    "# %% \n",
    "\n",
    "# Definindo os parâmetros a serem testados durante a busca de hiperparâmetros.\n",
    "# Estamos utilizando uma distribuição aleatória para parâmetros como 'n_estimators' e 'max_depth'.\n",
    "# Espaço de busca para os hiperparâmetros do RandomForest\n",
    "param_distributions = {\n",
    "    'regressor__max_depth': [10, 20, 30, None],\n",
    "    'regressor__n_estimators': [100, 200, 300],\n",
    "    'regressor__min_samples_split': [2, 5, 10]\n",
    "}\n",
    "\n",
    "# RandomizedSearchCV realiza uma busca aleatória nos parâmetros definidos acima.\n",
    "# Ele testa combinações aleatórias e avalia qual combinação tem o melhor desempenho.\n",
    "# Realiza a busca de hiperparâmetros\n",
    "random_search = RandomizedSearchCV(\n",
    "    pipeline,\n",
    "    param_distributions,\n",
    "    n_iter=10,  # Número de combinações aleatórias a serem testadas\n",
    "    cv=5,  # Número de folds para validação cruzada\n",
    "    random_state=42\n",
    ")\n",
    "\n",
    "# Realiza a busca de hiperparâmetros ajustando o modelo aos dados de treinamento.\n",
    "random_search.fit(X_train, y_train)\n",
    "# Exibe os melhores parâmetros encontrados durante a busca.\n",
    "print(\"Melhores hiperparâmetros:\", random_search.best_params_)"
   ]
  },
  {
   "cell_type": "code",
   "execution_count": null,
   "id": "a6a5cc29-29c5-4734-a96d-f33629ef0fe8",
   "metadata": {},
   "outputs": [],
   "source": [
    "# %% \n",
    "\n",
    "# Após a busca de hiperparâmetros, obtemos o modelo final treinado com os melhores parâmetros.\n",
    "random_forest = random_search.best_estimator_"
   ]
  },
  {
   "cell_type": "markdown",
   "id": "5911c84e-a65b-4be5-a405-d781f7a84d9a",
   "metadata": {},
   "source": [
    "# %% [markdown]\n",
    "\n",
    " ### Avaliando Resultado dos modelos"
   ]
  },
  {
   "cell_type": "code",
   "execution_count": null,
   "id": "6c7b5392-344a-4009-b4b0-a50a189aa0b4",
   "metadata": {},
   "outputs": [
    {
     "name": "stderr",
     "output_type": "stream",
     "text": [
      "c:\\Users\\maype\\Desktop\\projetos\\water_forecast\\venv\\Lib\\site-packages\\sklearn\\base.py:1473: DataConversionWarning: A column-vector y was passed when a 1d array was expected. Please change the shape of y to (n_samples,), for example using ravel().\n",
      "  return fit_method(estimator, *args, **kwargs)\n",
      "c:\\Users\\maype\\Desktop\\projetos\\water_forecast\\venv\\Lib\\site-packages\\sklearn\\base.py:1473: DataConversionWarning: A column-vector y was passed when a 1d array was expected. Please change the shape of y to (n_samples,), for example using ravel().\n",
      "  return fit_method(estimator, *args, **kwargs)\n",
      "c:\\Users\\maype\\Desktop\\projetos\\water_forecast\\venv\\Lib\\site-packages\\sklearn\\base.py:1473: DataConversionWarning: A column-vector y was passed when a 1d array was expected. Please change the shape of y to (n_samples,), for example using ravel().\n",
      "  return fit_method(estimator, *args, **kwargs)\n",
      "c:\\Users\\maype\\Desktop\\projetos\\water_forecast\\venv\\Lib\\site-packages\\sklearn\\base.py:1473: DataConversionWarning: A column-vector y was passed when a 1d array was expected. Please change the shape of y to (n_samples,), for example using ravel().\n",
      "  return fit_method(estimator, *args, **kwargs)\n",
      "c:\\Users\\maype\\Desktop\\projetos\\water_forecast\\venv\\Lib\\site-packages\\sklearn\\base.py:1473: DataConversionWarning: A column-vector y was passed when a 1d array was expected. Please change the shape of y to (n_samples,), for example using ravel().\n",
      "  return fit_method(estimator, *args, **kwargs)\n",
      "c:\\Users\\maype\\Desktop\\projetos\\water_forecast\\venv\\Lib\\site-packages\\sklearn\\base.py:1473: DataConversionWarning: A column-vector y was passed when a 1d array was expected. Please change the shape of y to (n_samples,), for example using ravel().\n",
      "  return fit_method(estimator, *args, **kwargs)\n",
      "c:\\Users\\maype\\Desktop\\projetos\\water_forecast\\venv\\Lib\\site-packages\\sklearn\\base.py:1473: DataConversionWarning: A column-vector y was passed when a 1d array was expected. Please change the shape of y to (n_samples,), for example using ravel().\n",
      "  return fit_method(estimator, *args, **kwargs)\n",
      "c:\\Users\\maype\\Desktop\\projetos\\water_forecast\\venv\\Lib\\site-packages\\sklearn\\base.py:1473: DataConversionWarning: A column-vector y was passed when a 1d array was expected. Please change the shape of y to (n_samples,), for example using ravel().\n",
      "  return fit_method(estimator, *args, **kwargs)\n",
      "c:\\Users\\maype\\Desktop\\projetos\\water_forecast\\venv\\Lib\\site-packages\\sklearn\\base.py:1473: DataConversionWarning: A column-vector y was passed when a 1d array was expected. Please change the shape of y to (n_samples,), for example using ravel().\n",
      "  return fit_method(estimator, *args, **kwargs)\n",
      "c:\\Users\\maype\\Desktop\\projetos\\water_forecast\\venv\\Lib\\site-packages\\sklearn\\base.py:1473: DataConversionWarning: A column-vector y was passed when a 1d array was expected. Please change the shape of y to (n_samples,), for example using ravel().\n",
      "  return fit_method(estimator, *args, **kwargs)\n"
     ]
    },
    {
     "name": "stdout",
     "output_type": "stream",
     "text": [
      "[0.70068211 0.82462153 0.75077162 0.78959344 0.80598062 0.6827257\n",
      " 0.53178686 0.81432326 0.87554316 0.83556798]\n",
      "Acurácia média do Random Forest: 0.7611596289414397\n"
     ]
    }
   ],
   "source": [
    "#%%\n",
    "\n",
    "# Avalia o modelo com a validação cruzada\n",
    "validacao_cruzada = KFold(n_splits=10, shuffle=True, random_state=42)\n",
    "cross_val_scores = cross_val_score(random_forest, X_val, y_val, cv=validacao_cruzada)\n",
    "acuracia_media_rf = cross_val_scores.mean()\n",
    "print(cross_val_scores)\n",
    "print(\"Acurácia média do Random Forest:\", acuracia_media_rf)\n",
    "\n",
    "# Faz previsões com o pipeline ajustado\n",
    "y_pred = random_forest.predict(X_val)"
   ]
  },
  {
   "cell_type": "markdown",
   "id": "6688d4b9-c07d-44f3-81c9-1c2704203a92",
   "metadata": {},
   "source": [
    "# %% [markdown]\n",
    "\n",
    " 1. Mean Absolute Error (MAE)\n",
    " O MAE calcula o erro médio absoluto entre as previsões e os valores reais. Ele é útil para entender o erro médio sem considerar a direção (positivo ou negativo)."
   ]
  },
  {
   "cell_type": "code",
   "execution_count": null,
   "id": "a27f0453-655d-45d7-a5af-2011c71c2c05",
   "metadata": {},
   "outputs": [
    {
     "name": "stdout",
     "output_type": "stream",
     "text": [
      "Mean Absolute Error (MAE): 781.3485227696502\n"
     ]
    }
   ],
   "source": [
    "#%%\n",
    "\n",
    "from sklearn.metrics import mean_absolute_error\n",
    "\n",
    "# y_val: valores reais, y_pred: valores previstos\n",
    "mae = mean_absolute_error(y_val, y_pred)\n",
    "\n",
    "# Exibindo o valor do MAE\n",
    "print(f\"Mean Absolute Error (MAE): {mae}\")"
   ]
  },
  {
   "cell_type": "markdown",
   "id": "ff04b843-2afc-4974-8a17-b6c037463ac4",
   "metadata": {},
   "source": [
    "# %% [markdown]\n",
    "\n",
    " 2. Mean Squared Error (MSE)\n",
    " O MSE calcula o erro quadrado médio. Ele penaliza mais os erros grandes, pois a diferença entre o valor real e o previsto é elevada ao quadrado"
   ]
  },
  {
   "cell_type": "code",
   "execution_count": null,
   "id": "fa87c220-a476-421d-83e6-16b245af2eb8",
   "metadata": {},
   "outputs": [
    {
     "name": "stdout",
     "output_type": "stream",
     "text": [
      "Mean Squared Error (MSE): 10963749.006984863\n"
     ]
    }
   ],
   "source": [
    "#%%\n",
    "\n",
    "from sklearn.metrics import mean_squared_error\n",
    "\n",
    "# y_val: valores reais, y_pred: valores previstos\n",
    "mse = mean_squared_error(y_val, y_pred)\n",
    "\n",
    "# Exibindo o valor do MSE\n",
    "print(f\"Mean Squared Error (MSE): {mse}\")"
   ]
  },
  {
   "cell_type": "markdown",
   "id": "57949f68-7ee0-4578-94cd-c2c3370ed23b",
   "metadata": {},
   "source": [
    "# %% [markdown]\n",
    "\n",
    " 3. Root Mean Squared Error (RMSE)\n",
    " O RMSE é a raiz quadrada do MSE. Ele traz a medida do erro para a mesma escala dos dados originais, o que torna mais fácil de interpretar."
   ]
  },
  {
   "cell_type": "code",
   "execution_count": null,
   "id": "5cef44c0-51c3-491d-9693-9b82a7d5ffbe",
   "metadata": {},
   "outputs": [
    {
     "name": "stdout",
     "output_type": "stream",
     "text": [
      "Root Mean Squared Error (RMSE): 3311.155237524339\n"
     ]
    }
   ],
   "source": [
    "#%%\n",
    "\n",
    "import numpy as np\n",
    "# Calculando o RMSE como a raiz quadrada do MSE\n",
    "rmse = np.sqrt(mse)\n",
    "\n",
    "# Exibindo o valor do RMSE\n",
    "print(f\"Root Mean Squared Error (RMSE): {rmse}\")"
   ]
  },
  {
   "cell_type": "markdown",
   "id": "cc9d5a72-ad92-4da9-b160-771504b4136f",
   "metadata": {},
   "source": [
    "# %% [markdown]\n",
    "\n",
    " 4. Coefficient of Determination (R²)\n",
    " O R² (ou coeficiente de determinação) mede a proporção da variação nos dados que o modelo é capaz de explicar. Um valor de 1 significa explicação perfeita, enquanto um valor de 0 significa que o modelo não explicou nada além da média."
   ]
  },
  {
   "cell_type": "code",
   "execution_count": null,
   "id": "0bb1fe5c-5ce7-41c3-82d8-6b3238df7671",
   "metadata": {},
   "outputs": [
    {
     "name": "stdout",
     "output_type": "stream",
     "text": [
      "Coefficient of Determination (R²): 0.7442861960012085\n"
     ]
    }
   ],
   "source": [
    "#%%\n",
    "\n",
    "from sklearn.metrics import r2_score\n",
    "\n",
    "# y_val: valores reais, y_pred: valores previstos\n",
    "r2 = r2_score(y_val, y_pred)\n",
    "\n",
    "# Exibindo o valor do R²\n",
    "print(f\"Coefficient of Determination (R²): {r2}\")"
   ]
  },
  {
   "cell_type": "markdown",
   "id": "06740f1a-39c8-4673-be57-c0d5ab481962",
   "metadata": {},
   "source": [
    "# %% [markdown]\n",
    "\n",
    " 5. Explained Variance Score\n",
    " A Expained Variance Score calcula a variação explicada pelo modelo. Um valor próximo de 1 significa que o modelo explicou a maior parte da variação dos dados."
   ]
  },
  {
   "cell_type": "code",
   "execution_count": null,
   "id": "84598c31-0dad-4ae0-8477-f1959e544950",
   "metadata": {},
   "outputs": [
    {
     "name": "stdout",
     "output_type": "stream",
     "text": [
      "Explained Variance Score: 0.7443231548849759\n"
     ]
    }
   ],
   "source": [
    "#%%\n",
    "\n",
    "from sklearn.metrics import explained_variance_score\n",
    "\n",
    "# y_val: valores reais, y_pred: valores previstos\n",
    "explained_variance = explained_variance_score(y_val, y_pred)\n",
    "\n",
    "# Exibindo o valor do Explained Variance Score\n",
    "print(f\"Explained Variance Score: {explained_variance}\")"
   ]
  },
  {
   "cell_type": "code",
   "execution_count": null,
   "id": "5c282fcd-2af9-4d35-8deb-eed0e920ecc0",
   "metadata": {},
   "outputs": [
    {
     "data": {
      "text/plain": [
       "['random_forest.joblib']"
      ]
     },
     "execution_count": 26,
     "metadata": {},
     "output_type": "execute_result"
    }
   ],
   "source": [
    "# %% \n",
    "\n",
    "# Após treinar o modelo e validá-lo, podemos salvar o modelo final em um arquivo para uso posterior.\n",
    "# O arquivo será salvo com o nome 'random_forest.joblib' para fácil carregamento e uso no futuro.\n",
    "joblib.dump(random_forest, 'random_forest.joblib')"
   ]
  }
 ],
 "metadata": {
  "language_info": {
   "codemirror_mode": {
    "name": "ipython",
    "version": 3
   },
   "file_extension": ".py",
   "mimetype": "text/x-python",
   "name": "python",
   "nbconvert_exporter": "python",
   "pygments_lexer": "ipython3",
   "version": 3
  }
 },
 "nbformat": 4,
 "nbformat_minor": 2
}
