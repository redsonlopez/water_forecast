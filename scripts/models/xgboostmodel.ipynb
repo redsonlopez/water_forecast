{
 "cells": [
  {
   "cell_type": "code",
   "execution_count": null,
   "id": "a404e9d7-d043-4201-8d2f-8d9aa8da34dc",
   "metadata": {},
   "outputs": [],
   "source": [
    "# %% \n",
    "\n",
    "import pandas as pd \n",
    "import numpy as np \n",
    "import xgboost as xgb  # Importando o XGBoost\n",
    "from sklearn.pipeline import Pipeline\n",
    "from pre_processing import importar_dados, preprocessar_dados\n",
    "from sklearn.model_selection import RandomizedSearchCV, KFold, cross_val_score\n",
    "from sklearn.metrics import mean_absolute_error\n",
    "from scipy.stats import randint\n",
    "import joblib"
   ]
  },
  {
   "cell_type": "code",
   "execution_count": null,
   "id": "3bdb4c5c-a652-44a9-a1e2-f07361c384b5",
   "metadata": {},
   "outputs": [
    {
     "data": {
      "text/html": [
       "<div>\n",
       "<style scoped>\n",
       "    .dataframe tbody tr th:only-of-type {\n",
       "        vertical-align: middle;\n",
       "    }\n",
       "\n",
       "    .dataframe tbody tr th {\n",
       "        vertical-align: top;\n",
       "    }\n",
       "\n",
       "    .dataframe thead th {\n",
       "        text-align: right;\n",
       "    }\n",
       "</style>\n",
       "<table border=\"1\" class=\"dataframe\">\n",
       "  <thead>\n",
       "    <tr style=\"text-align: right;\">\n",
       "      <th></th>\n",
       "      <th>ANO_VENCIMENTO</th>\n",
       "      <th>MES_VENCIMENTO</th>\n",
       "      <th>TRIMESTRE</th>\n",
       "      <th>VALOR_FATURA_lag1</th>\n",
       "      <th>VALOR_FATURA_lag2</th>\n",
       "    </tr>\n",
       "  </thead>\n",
       "  <tbody>\n",
       "    <tr>\n",
       "      <th>0</th>\n",
       "      <td>2023</td>\n",
       "      <td>8</td>\n",
       "      <td>3</td>\n",
       "      <td>115.00</td>\n",
       "      <td>448.35</td>\n",
       "    </tr>\n",
       "    <tr>\n",
       "      <th>1</th>\n",
       "      <td>2023</td>\n",
       "      <td>4</td>\n",
       "      <td>2</td>\n",
       "      <td>8024.27</td>\n",
       "      <td>4845.25</td>\n",
       "    </tr>\n",
       "    <tr>\n",
       "      <th>2</th>\n",
       "      <td>2022</td>\n",
       "      <td>4</td>\n",
       "      <td>2</td>\n",
       "      <td>55.20</td>\n",
       "      <td>55.20</td>\n",
       "    </tr>\n",
       "    <tr>\n",
       "      <th>3</th>\n",
       "      <td>2024</td>\n",
       "      <td>3</td>\n",
       "      <td>1</td>\n",
       "      <td>69.89</td>\n",
       "      <td>68.00</td>\n",
       "    </tr>\n",
       "    <tr>\n",
       "      <th>4</th>\n",
       "      <td>2023</td>\n",
       "      <td>6</td>\n",
       "      <td>2</td>\n",
       "      <td>5430.86</td>\n",
       "      <td>53.04</td>\n",
       "    </tr>\n",
       "  </tbody>\n",
       "</table>\n",
       "</div>"
      ],
      "text/plain": [
       "   ANO_VENCIMENTO  MES_VENCIMENTO  TRIMESTRE  VALOR_FATURA_lag1  \\\n",
       "0            2023               8          3             115.00   \n",
       "1            2023               4          2            8024.27   \n",
       "2            2022               4          2              55.20   \n",
       "3            2024               3          1              69.89   \n",
       "4            2023               6          2            5430.86   \n",
       "\n",
       "   VALOR_FATURA_lag2  \n",
       "0             448.35  \n",
       "1            4845.25  \n",
       "2              55.20  \n",
       "3              68.00  \n",
       "4              53.04  "
      ]
     },
     "execution_count": 53,
     "metadata": {},
     "output_type": "execute_result"
    }
   ],
   "source": [
    "# %% \n",
    "\n",
    "# Utilizando as funções criadas para importar e pré-processar os dados\n",
    "X_train, X_val, X_test, y_train, y_val, y_test = importar_dados() \n",
    "preprocessor = preprocessar_dados()\n",
    "X_train.head()"
   ]
  },
  {
   "cell_type": "code",
   "execution_count": null,
   "id": "4c0efa68-aa07-4bd7-8d44-caf9d92ba2c7",
   "metadata": {},
   "outputs": [],
   "source": [
    "# %%\n",
    "\n",
    "# Criando o modelo de regressão XGBoost\n",
    "# O 'random_state=42' garante que os resultados sejam reprodutíveis.\n",
    "model = xgb.XGBRegressor(random_state=42)"
   ]
  },
  {
   "cell_type": "code",
   "execution_count": null,
   "id": "3a77a76b-6af0-4150-b9a2-9e6af69e9677",
   "metadata": {},
   "outputs": [],
   "source": [
    "# %% \n",
    "\n",
    "# Pipeline\n",
    "# O pipeline permite integrar o pré-processamento e o modelo em um único fluxo de trabalho.\n",
    "# Isso facilita a execução do pré-processamento e a aplicação do modelo de forma sequencial e correta.\n",
    "pipeline = Pipeline(steps=[\n",
    "    ('preprocessor', preprocessor),  # Primeiro, aplica o pré-processamento aos dados.\n",
    "    ('regressor', model)  # Depois, treina o modelo XGBoost.\n",
    "])"
   ]
  },
  {
   "cell_type": "code",
   "execution_count": null,
   "id": "d9dbd72e-6bf0-4c3e-bd3a-d41715059458",
   "metadata": {},
   "outputs": [
    {
     "name": "stdout",
     "output_type": "stream",
     "text": [
      "Melhores hiperparâmetros: {'regressor__n_estimators': 100, 'regressor__max_depth': 3, 'regressor__learning_rate': 0.1, 'regressor__colsample_bytree': 0.3}\n"
     ]
    }
   ],
   "source": [
    "# %% \n",
    "\n",
    "# Definindo os parâmetros a serem testados durante a busca de hiperparâmetros.\n",
    "# Estamos utilizando uma distribuição aleatória para parâmetros como 'n_estimators' e 'max_depth'.\n",
    "param_distributions = {\n",
    "    'regressor__colsample_bytree': [0.3, 0.5, 0.7],\n",
    "    'regressor__max_depth': [3, 5, 7],\n",
    "    'regressor__learning_rate': [0.01, 0.1, 0.2],\n",
    "    'regressor__n_estimators': [50, 100, 200]\n",
    "}\n",
    "\n",
    "# RandomizedSearchCV realiza uma busca aleatória nos parâmetros definidos acima.\n",
    "# Ele testa combinações aleatórias e avalia qual combinação tem o melhor desempenho.\n",
    "random_search = RandomizedSearchCV(\n",
    "    pipeline,  # O pipeline com o pré-processamento e o modelo.\n",
    "    param_distributions,  # O espaço de busca para os hiperparâmetros.\n",
    "    n_iter=10,  # Número de iterações para testar combinações aleatórias.\n",
    "    cv=3,  # Número de divisões (folds) para validação cruzada durante a busca.\n",
    "    scoring='neg_mean_absolute_error',  # A métrica a ser otimizada (erro absoluto médio negativo).\n",
    "    n_jobs=-1,  # Utiliza todos os núcleos de processamento disponíveis para acelerar a busca.\n",
    "    random_state=42  # Garante a reprodutibilidade da busca aleatória.\n",
    ")\n",
    "\n",
    "# Realiza a busca de hiperparâmetros ajustando o modelo aos dados de treinamento.\n",
    "random_search.fit(X_train, y_train)\n",
    "# Exibe os melhores parâmetros encontrados durante a busca.\n",
    "print(\"Melhores hiperparâmetros:\", random_search.best_params_)"
   ]
  },
  {
   "cell_type": "code",
   "execution_count": null,
   "id": "a424a549-a125-431d-81c7-b6eb2ae0c838",
   "metadata": {},
   "outputs": [],
   "source": [
    "# %% \n",
    "\n",
    "# Após a busca de hiperparâmetros, obtemos o modelo final treinado com os melhores parâmetros.\n",
    "xgboost_model = random_search.best_estimator_"
   ]
  },
  {
   "cell_type": "markdown",
   "id": "39a4eae4-385a-4aeb-9984-7da0d186653c",
   "metadata": {},
   "source": [
    "# %% [markdown]\n",
    "\n",
    " ### Avaliando Resultado dos modelos"
   ]
  },
  {
   "cell_type": "code",
   "execution_count": null,
   "id": "654dc8dc-1297-4a82-b502-26a44253f770",
   "metadata": {},
   "outputs": [
    {
     "name": "stdout",
     "output_type": "stream",
     "text": [
      "[0.64362025 0.81747645 0.61087161 0.76101679 0.78190768 0.64936411\n",
      " 0.45826954 0.74221122 0.72664493 0.77885538]\n",
      "Acurácia média do XGBoost: 0.6970237970352173\n"
     ]
    }
   ],
   "source": [
    "#%%\n",
    "\n",
    "# Avalia o modelo com a validação cruzada\n",
    "validacao_cruzada = KFold(n_splits=10, shuffle=True, random_state=42)\n",
    "cross_val_scores = cross_val_score(xgboost_model, X_val, y_val, cv=validacao_cruzada)\n",
    "acuracia_media_xgb = cross_val_scores.mean()\n",
    "print(cross_val_scores)\n",
    "print(\"Acurácia média do XGBoost:\", acuracia_media_xgb)\n",
    "\n",
    "# Faz previsões com o pipeline ajustado\n",
    "y_pred = xgboost_model.predict(X_val)"
   ]
  },
  {
   "cell_type": "markdown",
   "id": "faaa20f6-f6c8-45bb-8d8c-ac83f33a0c68",
   "metadata": {},
   "source": [
    "# %% [markdown]\n",
    "\n",
    " 1. Mean Absolute Error (MAE)\n",
    " O MAE calcula o erro médio absoluto entre as previsões e os valores reais. Ele é útil para entender o erro médio sem considerar a direção (positivo ou negativo)."
   ]
  },
  {
   "cell_type": "code",
   "execution_count": null,
   "id": "1056edcc-ff29-4e87-993f-80b91352788c",
   "metadata": {},
   "outputs": [
    {
     "name": "stdout",
     "output_type": "stream",
     "text": [
      "Mean Absolute Error (MAE): 856.4199723378036\n"
     ]
    }
   ],
   "source": [
    "#%%\n",
    "\n",
    "from sklearn.metrics import mean_absolute_error\n",
    "\n",
    "# y_val: valores reais, y_pred: valores previstos\n",
    "mae = mean_absolute_error(y_val, y_pred)\n",
    "\n",
    "# Exibindo o valor do MAE\n",
    "print(f\"Mean Absolute Error (MAE): {mae}\")"
   ]
  },
  {
   "cell_type": "markdown",
   "id": "342d9059-dbae-4d5f-a053-cf35ef3e802f",
   "metadata": {},
   "source": [
    "# %% [markdown]\n",
    "\n",
    " 2. Mean Squared Error (MSE)\n",
    " O MSE calcula o erro quadrado médio. Ele penaliza mais os erros grandes, pois a diferença entre o valor real e o previsto é elevada ao quadrado"
   ]
  },
  {
   "cell_type": "code",
   "execution_count": null,
   "id": "f42750ee-580f-462b-83ed-43b4198b579d",
   "metadata": {},
   "outputs": [
    {
     "name": "stdout",
     "output_type": "stream",
     "text": [
      "Mean Squared Error (MSE): 13493929.087162755\n"
     ]
    }
   ],
   "source": [
    "#%%\n",
    "\n",
    "from sklearn.metrics import mean_squared_error\n",
    "\n",
    "# y_val: valores reais, y_pred: valores previstos\n",
    "mse = mean_squared_error(y_val, y_pred)\n",
    "\n",
    "# Exibindo o valor do MSE\n",
    "print(f\"Mean Squared Error (MSE): {mse}\")"
   ]
  },
  {
   "cell_type": "markdown",
   "id": "854c983a-f7f8-4ed7-9385-6a0f48b2fe0a",
   "metadata": {},
   "source": [
    "# %% [markdown]\n",
    "\n",
    " 3. Root Mean Squared Error (RMSE)\n",
    " O RMSE é a raiz quadrada do MSE. Ele traz a medida do erro para a mesma escala dos dados originais, o que torna mais fácil de interpretar."
   ]
  },
  {
   "cell_type": "code",
   "execution_count": null,
   "id": "307e480a-419a-463b-a37b-17aac74d678a",
   "metadata": {},
   "outputs": [
    {
     "name": "stdout",
     "output_type": "stream",
     "text": [
      "Root Mean Squared Error (RMSE): 3673.4083746791284\n"
     ]
    }
   ],
   "source": [
    "#%%\n",
    "\n",
    "import numpy as np\n",
    "# Calculando o RMSE como a raiz quadrada do MSE\n",
    "rmse = np.sqrt(mse)\n",
    "\n",
    "# Exibindo o valor do RMSE\n",
    "print(f\"Root Mean Squared Error (RMSE): {rmse}\")"
   ]
  },
  {
   "cell_type": "markdown",
   "id": "8cc8f1df-76cc-420e-9d35-bd7abbc17516",
   "metadata": {},
   "source": [
    "# %% [markdown]\n",
    "\n",
    " 4. Coefficient of Determination (R²)\n",
    " O R² (ou coeficiente de determinação) mede a proporção da variação nos dados que o modelo é capaz de explicar. Um valor de 1 significa explicação perfeita, enquanto um valor de 0 significa que o modelo não explicou nada além da média."
   ]
  },
  {
   "cell_type": "code",
   "execution_count": null,
   "id": "71eb0882-7b87-4972-828c-86c4488ef566",
   "metadata": {},
   "outputs": [
    {
     "name": "stdout",
     "output_type": "stream",
     "text": [
      "Coefficient of Determination (R²): 0.6852733492851257\n"
     ]
    }
   ],
   "source": [
    "#%%\n",
    "\n",
    "from sklearn.metrics import r2_score\n",
    "\n",
    "# y_val: valores reais, y_pred: valores previstos\n",
    "r2 = r2_score(y_val, y_pred)\n",
    "\n",
    "# Exibindo o valor do R²\n",
    "print(f\"Coefficient of Determination (R²): {r2}\")"
   ]
  },
  {
   "cell_type": "markdown",
   "id": "d52fd813-8bde-4d26-978f-435fa510cf9d",
   "metadata": {},
   "source": [
    "# %% [markdown]\n",
    "\n",
    " 5. Explained Variance Score\n",
    " A Expained Variance Score calcula a variação explicada pelo modelo. Um valor próximo de 1 significa que o modelo explicou a maior parte da variação dos dados."
   ]
  },
  {
   "cell_type": "code",
   "execution_count": null,
   "id": "c3da3fef-bfd3-40a5-8274-e4b84671e8ca",
   "metadata": {},
   "outputs": [
    {
     "name": "stdout",
     "output_type": "stream",
     "text": [
      "Explained Variance Score: 0.6853822643454331\n"
     ]
    }
   ],
   "source": [
    "#%%\n",
    "\n",
    "from sklearn.metrics import explained_variance_score\n",
    "\n",
    "# y_val: valores reais, y_pred: valores previstos\n",
    "explained_variance = explained_variance_score(y_val, y_pred)\n",
    "\n",
    "# Exibindo o valor do Explained Variance Score\n",
    "print(f\"Explained Variance Score: {explained_variance}\")"
   ]
  },
  {
   "cell_type": "code",
   "execution_count": null,
   "id": "9c774853-9f73-4051-85c7-5eb0c91a40d2",
   "metadata": {},
   "outputs": [
    {
     "data": {
      "text/plain": [
       "['xgboost_model.joblib']"
      ]
     },
     "execution_count": 64,
     "metadata": {},
     "output_type": "execute_result"
    }
   ],
   "source": [
    "# %% \n",
    "\n",
    "# Após treinar o modelo e validá-lo, podemos salvar o modelo final em um arquivo para uso posterior.\n",
    "# O arquivo será salvo com o nome 'xgboost_model.joblib' para fácil carregamento e uso no futuro.\n",
    "joblib.dump(xgboost_model, 'xgboost_model.joblib')"
   ]
  }
 ],
 "metadata": {
  "language_info": {
   "codemirror_mode": {
    "name": "ipython",
    "version": 3
   },
   "file_extension": ".py",
   "mimetype": "text/x-python",
   "name": "python",
   "nbconvert_exporter": "python",
   "pygments_lexer": "ipython3",
   "version": 3
  }
 },
 "nbformat": 4,
 "nbformat_minor": 2
}
