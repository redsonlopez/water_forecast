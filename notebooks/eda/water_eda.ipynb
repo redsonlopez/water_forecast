{
 "cells": [
  {
   "cell_type": "code",
   "execution_count": 98,
   "id": "e8039875-68ba-4288-92a5-197a4f8a6163",
   "metadata": {},
   "outputs": [
    {
     "name": "stderr",
     "output_type": "stream",
     "text": [
      "/tmp/ipykernel_18866/2330441546.py:5: DtypeWarning: Columns (4,5) have mixed types. Specify dtype option on import or set low_memory=False.\n",
      "  df= pd.read_csv(\"../../data/processed/stacked_water.csv\")\n"
     ]
    },
    {
     "data": {
      "text/html": [
       "<div>\n",
       "<style scoped>\n",
       "    .dataframe tbody tr th:only-of-type {\n",
       "        vertical-align: middle;\n",
       "    }\n",
       "\n",
       "    .dataframe tbody tr th {\n",
       "        vertical-align: top;\n",
       "    }\n",
       "\n",
       "    .dataframe thead th {\n",
       "        text-align: right;\n",
       "    }\n",
       "</style>\n",
       "<table border=\"1\" class=\"dataframe\">\n",
       "  <thead>\n",
       "    <tr style=\"text-align: right;\">\n",
       "      <th></th>\n",
       "      <th>MATRICULA</th>\n",
       "      <th>VALOR_FATURA</th>\n",
       "      <th>VOLUME_FATURA_AGUA</th>\n",
       "      <th>VOLUME_FATURA_ESGOTO</th>\n",
       "      <th>VOLUME_MEDIDO_AGUA</th>\n",
       "      <th>VOLUME_MEDIDO_ESGOTO</th>\n",
       "      <th>NOME_CLIENTE</th>\n",
       "      <th>HIDROMETRO</th>\n",
       "      <th>DATA_VENCIMENTO</th>\n",
       "      <th>TIPO_LOGRADOURO</th>\n",
       "      <th>NOME_LOGRADOURO</th>\n",
       "      <th>NUM_IMOVEL</th>\n",
       "      <th>COMPLEMENTO</th>\n",
       "      <th>INFO_COMPLEMENTO</th>\n",
       "      <th>BAIRRO</th>\n",
       "    </tr>\n",
       "  </thead>\n",
       "  <tbody>\n",
       "    <tr>\n",
       "      <th>0</th>\n",
       "      <td>115001999</td>\n",
       "      <td>24,24</td>\n",
       "      <td>0</td>\n",
       "      <td>0</td>\n",
       "      <td>0</td>\n",
       "      <td>0</td>\n",
       "      <td>PREF M BELO HORIZONTE PRACA</td>\n",
       "      <td>Y20G 0639417                                  ...</td>\n",
       "      <td>15/2/2022</td>\n",
       "      <td>PR</td>\n",
       "      <td>RIALTO</td>\n",
       "      <td>0</td>\n",
       "      <td></td>\n",
       "      <td></td>\n",
       "      <td>PADRE EUSTAQUIO</td>\n",
       "    </tr>\n",
       "    <tr>\n",
       "      <th>1</th>\n",
       "      <td>126981035</td>\n",
       "      <td>24,24</td>\n",
       "      <td>0</td>\n",
       "      <td>0</td>\n",
       "      <td>0</td>\n",
       "      <td>0</td>\n",
       "      <td>PREF M BELO HORIZONTE BOUL ARRUDAS</td>\n",
       "      <td>F13S 0002381                                  ...</td>\n",
       "      <td>15/2/2022</td>\n",
       "      <td>AV</td>\n",
       "      <td>TERESA CRISTINA</td>\n",
       "      <td>0</td>\n",
       "      <td></td>\n",
       "      <td></td>\n",
       "      <td>CARLOS PRATES</td>\n",
       "    </tr>\n",
       "    <tr>\n",
       "      <th>2</th>\n",
       "      <td>23084286</td>\n",
       "      <td>74,82</td>\n",
       "      <td>5</td>\n",
       "      <td>5</td>\n",
       "      <td>5</td>\n",
       "      <td>5</td>\n",
       "      <td>PREF M BELO HORIZONTE SLU</td>\n",
       "      <td>Y14N 0374749                                  ...</td>\n",
       "      <td>15/2/2022</td>\n",
       "      <td>R</td>\n",
       "      <td>INGAI</td>\n",
       "      <td>361</td>\n",
       "      <td></td>\n",
       "      <td></td>\n",
       "      <td>PADRE EUSTAQUIO</td>\n",
       "    </tr>\n",
       "  </tbody>\n",
       "</table>\n",
       "</div>"
      ],
      "text/plain": [
       "   MATRICULA   VALOR_FATURA  VOLUME_FATURA_AGUA  VOLUME_FATURA_ESGOTO  \\\n",
       "0  115001999          24,24                   0                     0   \n",
       "1  126981035          24,24                   0                     0   \n",
       "2   23084286          74,82                   5                     5   \n",
       "\n",
       "  VOLUME_MEDIDO_AGUA VOLUME_MEDIDO_ESGOTO  \\\n",
       "0                  0                    0   \n",
       "1                  0                    0   \n",
       "2                  5                    5   \n",
       "\n",
       "                          NOME_CLIENTE  \\\n",
       "0  PREF M BELO HORIZONTE PRACA           \n",
       "1  PREF M BELO HORIZONTE BOUL ARRUDAS    \n",
       "2  PREF M BELO HORIZONTE SLU             \n",
       "\n",
       "                                          HIDROMETRO DATA_VENCIMENTO  \\\n",
       "0  Y20G 0639417                                  ...      15/2/2022    \n",
       "1  F13S 0002381                                  ...      15/2/2022    \n",
       "2  Y14N 0374749                                  ...      15/2/2022    \n",
       "\n",
       "  TIPO_LOGRADOURO                           NOME_LOGRADOURO  NUM_IMOVEL  \\\n",
       "0              PR  RIALTO                                             0   \n",
       "1              AV  TERESA CRISTINA                                    0   \n",
       "2              R   INGAI                                            361   \n",
       "\n",
       "  COMPLEMENTO INFO_COMPLEMENTO                          BAIRRO  \n",
       "0                               PADRE EUSTAQUIO                 \n",
       "1                               CARLOS PRATES                   \n",
       "2                               PADRE EUSTAQUIO                 "
      ]
     },
     "metadata": {},
     "output_type": "display_data"
    },
    {
     "name": "stdout",
     "output_type": "stream",
     "text": [
      "<class 'pandas.core.frame.DataFrame'>\n",
      "RangeIndex: 67533 entries, 0 to 67532\n",
      "Data columns (total 15 columns):\n",
      " #   Column                Non-Null Count  Dtype \n",
      "---  ------                --------------  ----- \n",
      " 0   MATRICULA             67533 non-null  int64 \n",
      " 1   VALOR_FATURA          67533 non-null  object\n",
      " 2   VOLUME_FATURA_AGUA    67533 non-null  int64 \n",
      " 3   VOLUME_FATURA_ESGOTO  67533 non-null  int64 \n",
      " 4   VOLUME_MEDIDO_AGUA    67533 non-null  object\n",
      " 5   VOLUME_MEDIDO_ESGOTO  67533 non-null  object\n",
      " 6   NOME_CLIENTE          67533 non-null  object\n",
      " 7   HIDROMETRO            67533 non-null  object\n",
      " 8   DATA_VENCIMENTO       67533 non-null  object\n",
      " 9   TIPO_LOGRADOURO       67533 non-null  object\n",
      " 10  NOME_LOGRADOURO       67533 non-null  object\n",
      " 11  NUM_IMOVEL            67533 non-null  int64 \n",
      " 12  COMPLEMENTO           67533 non-null  object\n",
      " 13  INFO_COMPLEMENTO      67533 non-null  object\n",
      " 14  BAIRRO                67533 non-null  object\n",
      "dtypes: int64(4), object(11)\n",
      "memory usage: 7.7+ MB\n"
     ]
    }
   ],
   "source": [
    "# Importação de bibliotecas\n",
    "import pandas as pd\n",
    "\n",
    "# Importação do arquivo com dados brutos a partir do ano de 2022\n",
    "df= pd.read_csv(\"../../data/processed/stacked_water.csv\")\n",
    "\n",
    "# Visualização para os tipos de dados\n",
    "display(df.head(3))\n",
    "df.info()"
   ]
  },
  {
   "cell_type": "code",
   "execution_count": 99,
   "id": "93cf6dc8",
   "metadata": {},
   "outputs": [
    {
     "name": "stdout",
     "output_type": "stream",
     "text": [
      "Valores não numéricos na coluna 4:\n",
      "19654    00000007L\n",
      "Name: VOLUME_MEDIDO_AGUA, dtype: object\n",
      "\n",
      "Valores não numéricos na coluna 5:\n",
      "19654    00000007L\n",
      "Name: VOLUME_MEDIDO_ESGOTO, dtype: object\n"
     ]
    }
   ],
   "source": [
    "# Converter as colunas problemáticas para numérico, com NaN para valores não numéricos\n",
    "non_numeric_col4 = df.iloc[:, 4][pd.to_numeric(df.iloc[:, 4], errors='coerce').isna()]\n",
    "non_numeric_col5 = df.iloc[:, 5][pd.to_numeric(df.iloc[:, 5], errors='coerce').isna()]\n",
    "\n",
    "# Exibir os valores não numéricos\n",
    "print(\"Valores não numéricos na coluna 4:\")\n",
    "print(non_numeric_col4)\n",
    "\n",
    "print(\"\\nValores não numéricos na coluna 5:\")\n",
    "print(non_numeric_col5)"
   ]
  },
  {
   "cell_type": "code",
   "execution_count": 100,
   "id": "0a7a8dd1",
   "metadata": {},
   "outputs": [],
   "source": [
    "# Remover o 'L' do final de cada valor nas colunas afetadas\n",
    "df['VOLUME_MEDIDO_AGUA'] = df['VOLUME_MEDIDO_AGUA'].astype(str).str.rstrip('L')\n",
    "df['VOLUME_MEDIDO_ESGOTO'] = df['VOLUME_MEDIDO_ESGOTO'].astype(str).str.rstrip('L')\n",
    "\n",
    "# Converter as colunas para numérico novamente\n",
    "df['VOLUME_MEDIDO_AGUA'] = pd.to_numeric(df['VOLUME_MEDIDO_AGUA'], errors='coerce')\n",
    "df['VOLUME_MEDIDO_ESGOTO'] = pd.to_numeric(df['VOLUME_MEDIDO_ESGOTO'], errors='coerce')\n"
   ]
  },
  {
   "cell_type": "code",
   "execution_count": 101,
   "id": "5d6713e1",
   "metadata": {},
   "outputs": [],
   "source": [
    "# Remover os pontos (separadores de milhar) na coluna com os valores das faturas\n",
    "df['VALOR_FATURA'] = df['VALOR_FATURA'].str.replace('.', '', regex=False)\n",
    "# Substituir ',' por '.'\n",
    "df['VALOR_FATURA'] = df['VALOR_FATURA'].str.replace(',', '.', regex=False)\n",
    "# Converter para númerico\n",
    "df['VALOR_FATURA']= pd.to_numeric(df['VALOR_FATURA'])"
   ]
  },
  {
   "cell_type": "code",
   "execution_count": 102,
   "id": "093e1a37",
   "metadata": {},
   "outputs": [],
   "source": [
    "# Converter data para datetime\n",
    "df[\"DATA_VENCIMENTO\"] = pd.to_datetime(df[\"DATA_VENCIMENTO\"], format='mixed', dayfirst=True)"
   ]
  },
  {
   "cell_type": "code",
   "execution_count": 103,
   "id": "5827ef05",
   "metadata": {},
   "outputs": [
    {
     "data": {
      "text/plain": [
       "array(['PADRE EUSTAQUIO               ', 'CARLOS PRATES                 ',\n",
       "       'FLORAMAR                      ', 'TUPI A                        '],\n",
       "      dtype=object)"
      ]
     },
     "execution_count": 103,
     "metadata": {},
     "output_type": "execute_result"
    }
   ],
   "source": [
    "# Visualização de dados da coluna \"BAIRRO\"\n",
    "df[\"BAIRRO\"].unique()[:4]"
   ]
  },
  {
   "cell_type": "code",
   "execution_count": 116,
   "id": "c1123765",
   "metadata": {},
   "outputs": [
    {
     "name": "stdout",
     "output_type": "stream",
     "text": [
      "['PADRE EUSTAQUIO' 'CARLOS PRATES' 'FLORAMAR' 'TUPI A'] \n",
      "Total de bairros: 343\n"
     ]
    }
   ],
   "source": [
    "# Retirada dos espaçamentos nas strings\n",
    "df[\"BAIRRO\"]= df[\"BAIRRO\"].str.strip()\n",
    "\n",
    "# Visualização do resultado\n",
    "print(f\"{df['BAIRRO'].unique()[:4]} \\nTotal de bairros: {df['BAIRRO'].nunique()}\")"
   ]
  },
  {
   "cell_type": "code",
   "execution_count": 105,
   "id": "9f9d4f6c",
   "metadata": {},
   "outputs": [],
   "source": [
    "# Separação das colunas que serão utilizadas\n",
    "columns= [\"MATRICULA\", \"VALOR_FATURA\", \"VOLUME_FATURA_AGUA\", \"VOLUME_FATURA_ESGOTO\",\\\n",
    "          \"VOLUME_MEDIDO_AGUA\", \"VOLUME_MEDIDO_ESGOTO\", \"DATA_VENCIMENTO\", \"BAIRRO\"]\n",
    "df= df[columns]"
   ]
  },
  {
   "cell_type": "code",
   "execution_count": 106,
   "id": "c8229f09",
   "metadata": {},
   "outputs": [
    {
     "data": {
      "text/html": [
       "<div>\n",
       "<style scoped>\n",
       "    .dataframe tbody tr th:only-of-type {\n",
       "        vertical-align: middle;\n",
       "    }\n",
       "\n",
       "    .dataframe tbody tr th {\n",
       "        vertical-align: top;\n",
       "    }\n",
       "\n",
       "    .dataframe thead th {\n",
       "        text-align: right;\n",
       "    }\n",
       "</style>\n",
       "<table border=\"1\" class=\"dataframe\">\n",
       "  <thead>\n",
       "    <tr style=\"text-align: right;\">\n",
       "      <th></th>\n",
       "      <th>MATRICULA</th>\n",
       "      <th>VALOR_FATURA</th>\n",
       "      <th>VOLUME_FATURA_AGUA</th>\n",
       "      <th>VOLUME_FATURA_ESGOTO</th>\n",
       "      <th>VOLUME_MEDIDO_AGUA</th>\n",
       "      <th>VOLUME_MEDIDO_ESGOTO</th>\n",
       "      <th>DATA_VENCIMENTO</th>\n",
       "      <th>BAIRRO</th>\n",
       "    </tr>\n",
       "  </thead>\n",
       "  <tbody>\n",
       "    <tr>\n",
       "      <th>0</th>\n",
       "      <td>115001999</td>\n",
       "      <td>24.24</td>\n",
       "      <td>0</td>\n",
       "      <td>0</td>\n",
       "      <td>0</td>\n",
       "      <td>0</td>\n",
       "      <td>2022-02-15</td>\n",
       "      <td>PADRE EUSTAQUIO</td>\n",
       "    </tr>\n",
       "    <tr>\n",
       "      <th>1</th>\n",
       "      <td>126981035</td>\n",
       "      <td>24.24</td>\n",
       "      <td>0</td>\n",
       "      <td>0</td>\n",
       "      <td>0</td>\n",
       "      <td>0</td>\n",
       "      <td>2022-02-15</td>\n",
       "      <td>CARLOS PRATES</td>\n",
       "    </tr>\n",
       "    <tr>\n",
       "      <th>2</th>\n",
       "      <td>23084286</td>\n",
       "      <td>74.82</td>\n",
       "      <td>5</td>\n",
       "      <td>5</td>\n",
       "      <td>5</td>\n",
       "      <td>5</td>\n",
       "      <td>2022-02-15</td>\n",
       "      <td>PADRE EUSTAQUIO</td>\n",
       "    </tr>\n",
       "  </tbody>\n",
       "</table>\n",
       "</div>"
      ],
      "text/plain": [
       "   MATRICULA  VALOR_FATURA  VOLUME_FATURA_AGUA  VOLUME_FATURA_ESGOTO  \\\n",
       "0  115001999         24.24                   0                     0   \n",
       "1  126981035         24.24                   0                     0   \n",
       "2   23084286         74.82                   5                     5   \n",
       "\n",
       "   VOLUME_MEDIDO_AGUA  VOLUME_MEDIDO_ESGOTO DATA_VENCIMENTO           BAIRRO  \n",
       "0                   0                     0      2022-02-15  PADRE EUSTAQUIO  \n",
       "1                   0                     0      2022-02-15    CARLOS PRATES  \n",
       "2                   5                     5      2022-02-15  PADRE EUSTAQUIO  "
      ]
     },
     "metadata": {},
     "output_type": "display_data"
    },
    {
     "name": "stdout",
     "output_type": "stream",
     "text": [
      "<class 'pandas.core.frame.DataFrame'>\n",
      "RangeIndex: 67533 entries, 0 to 67532\n",
      "Data columns (total 8 columns):\n",
      " #   Column                Non-Null Count  Dtype         \n",
      "---  ------                --------------  -----         \n",
      " 0   MATRICULA             67533 non-null  int64         \n",
      " 1   VALOR_FATURA          67533 non-null  float64       \n",
      " 2   VOLUME_FATURA_AGUA    67533 non-null  int64         \n",
      " 3   VOLUME_FATURA_ESGOTO  67533 non-null  int64         \n",
      " 4   VOLUME_MEDIDO_AGUA    67533 non-null  int64         \n",
      " 5   VOLUME_MEDIDO_ESGOTO  67533 non-null  int64         \n",
      " 6   DATA_VENCIMENTO       67533 non-null  datetime64[ns]\n",
      " 7   BAIRRO                67533 non-null  object        \n",
      "dtypes: datetime64[ns](1), float64(1), int64(5), object(1)\n",
      "memory usage: 4.1+ MB\n"
     ]
    }
   ],
   "source": [
    "# Visualização dos dados tratados\n",
    "display(df.head(3))\n",
    "df.info()"
   ]
  },
  {
   "cell_type": "code",
   "execution_count": 107,
   "id": "ed4b5d45",
   "metadata": {},
   "outputs": [],
   "source": [
    "# Exportação do arquivo processado\n",
    "#df.to_csv(\"../../data/processed/processed_water.csv\", index=False, encoding=\"utf-8\")"
   ]
  }
 ],
 "metadata": {
  "kernelspec": {
   "display_name": ".venv",
   "language": "python",
   "name": "python3"
  },
  "language_info": {
   "codemirror_mode": {
    "name": "ipython",
    "version": 3
   },
   "file_extension": ".py",
   "mimetype": "text/x-python",
   "name": "python",
   "nbconvert_exporter": "python",
   "pygments_lexer": "ipython3",
   "version": "3.11.2"
  }
 },
 "nbformat": 4,
 "nbformat_minor": 5
}
